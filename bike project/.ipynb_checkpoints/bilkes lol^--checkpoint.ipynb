{
 "cells": [
  {
   "cell_type": "code",
   "execution_count": 1,
   "metadata": {
    "ExecuteTime": {
     "end_time": "2022-11-23T16:41:22.376410Z",
     "start_time": "2022-11-23T16:41:18.701939Z"
    }
   },
   "outputs": [],
   "source": [
    "import numpy as np \n",
    "import pandas as pd \n",
    "import seaborn as sns\n",
    "sns.set({'figure.figsize':[8,8]})"
   ]
  },
  {
   "cell_type": "code",
   "execution_count": 2,
   "metadata": {
    "ExecuteTime": {
     "end_time": "2022-11-22T17:10:45.911503Z",
     "start_time": "2022-11-22T17:10:45.826067Z"
    }
   },
   "outputs": [
    {
     "data": {
      "text/html": [
       "<div>\n",
       "<style scoped>\n",
       "    .dataframe tbody tr th:only-of-type {\n",
       "        vertical-align: middle;\n",
       "    }\n",
       "\n",
       "    .dataframe tbody tr th {\n",
       "        vertical-align: top;\n",
       "    }\n",
       "\n",
       "    .dataframe thead th {\n",
       "        text-align: right;\n",
       "    }\n",
       "</style>\n",
       "<table border=\"1\" class=\"dataframe\">\n",
       "  <thead>\n",
       "    <tr style=\"text-align: right;\">\n",
       "      <th></th>\n",
       "      <th>datetime</th>\n",
       "      <th>season</th>\n",
       "      <th>holiday</th>\n",
       "      <th>workingday</th>\n",
       "      <th>weather</th>\n",
       "      <th>temp</th>\n",
       "      <th>humidity</th>\n",
       "      <th>windspeed</th>\n",
       "      <th>casual</th>\n",
       "      <th>registered</th>\n",
       "      <th>rented_bikes_count</th>\n",
       "    </tr>\n",
       "  </thead>\n",
       "  <tbody>\n",
       "    <tr>\n",
       "      <th>0</th>\n",
       "      <td>2011-01-01 00:00:00</td>\n",
       "      <td>Spring</td>\n",
       "      <td>0.0</td>\n",
       "      <td>0.0</td>\n",
       "      <td>Clear</td>\n",
       "      <td>9.84</td>\n",
       "      <td>81.0</td>\n",
       "      <td>NaN</td>\n",
       "      <td>3</td>\n",
       "      <td>13</td>\n",
       "      <td>16</td>\n",
       "    </tr>\n",
       "    <tr>\n",
       "      <th>1</th>\n",
       "      <td>2011-01-01 01:00:00</td>\n",
       "      <td>Spring</td>\n",
       "      <td>0.0</td>\n",
       "      <td>0.0</td>\n",
       "      <td>NaN</td>\n",
       "      <td>9.02</td>\n",
       "      <td>80.0</td>\n",
       "      <td>0.0000</td>\n",
       "      <td>8</td>\n",
       "      <td>32</td>\n",
       "      <td>40</td>\n",
       "    </tr>\n",
       "    <tr>\n",
       "      <th>2</th>\n",
       "      <td>2011-01-01 02:00:00</td>\n",
       "      <td>Spring</td>\n",
       "      <td>0.0</td>\n",
       "      <td>0.0</td>\n",
       "      <td>Clear</td>\n",
       "      <td>9.02</td>\n",
       "      <td>NaN</td>\n",
       "      <td>0.0000</td>\n",
       "      <td>5</td>\n",
       "      <td>27</td>\n",
       "      <td>32</td>\n",
       "    </tr>\n",
       "    <tr>\n",
       "      <th>3</th>\n",
       "      <td>2011-01-01 03:00:00</td>\n",
       "      <td>Spring</td>\n",
       "      <td>0.0</td>\n",
       "      <td>0.0</td>\n",
       "      <td>Clear</td>\n",
       "      <td>9.84</td>\n",
       "      <td>75.0</td>\n",
       "      <td>0.0000</td>\n",
       "      <td>3</td>\n",
       "      <td>10</td>\n",
       "      <td>13</td>\n",
       "    </tr>\n",
       "    <tr>\n",
       "      <th>4</th>\n",
       "      <td>2011-01-01 04:00:00</td>\n",
       "      <td>NaN</td>\n",
       "      <td>0.0</td>\n",
       "      <td>0.0</td>\n",
       "      <td>Clear</td>\n",
       "      <td>NaN</td>\n",
       "      <td>75.0</td>\n",
       "      <td>NaN</td>\n",
       "      <td>0</td>\n",
       "      <td>1</td>\n",
       "      <td>1</td>\n",
       "    </tr>\n",
       "    <tr>\n",
       "      <th>...</th>\n",
       "      <td>...</td>\n",
       "      <td>...</td>\n",
       "      <td>...</td>\n",
       "      <td>...</td>\n",
       "      <td>...</td>\n",
       "      <td>...</td>\n",
       "      <td>...</td>\n",
       "      <td>...</td>\n",
       "      <td>...</td>\n",
       "      <td>...</td>\n",
       "      <td>...</td>\n",
       "    </tr>\n",
       "    <tr>\n",
       "      <th>10881</th>\n",
       "      <td>2012-12-19 19:00:00</td>\n",
       "      <td>Winter</td>\n",
       "      <td>0.0</td>\n",
       "      <td>1.0</td>\n",
       "      <td>Clear</td>\n",
       "      <td>15.58</td>\n",
       "      <td>50.0</td>\n",
       "      <td>26.0027</td>\n",
       "      <td>7</td>\n",
       "      <td>329</td>\n",
       "      <td>336</td>\n",
       "    </tr>\n",
       "    <tr>\n",
       "      <th>10882</th>\n",
       "      <td>2012-12-19 20:00:00</td>\n",
       "      <td>Winter</td>\n",
       "      <td>0.0</td>\n",
       "      <td>1.0</td>\n",
       "      <td>NaN</td>\n",
       "      <td>14.76</td>\n",
       "      <td>NaN</td>\n",
       "      <td>NaN</td>\n",
       "      <td>10</td>\n",
       "      <td>231</td>\n",
       "      <td>241</td>\n",
       "    </tr>\n",
       "    <tr>\n",
       "      <th>10883</th>\n",
       "      <td>2012-12-19 21:00:00</td>\n",
       "      <td>NaN</td>\n",
       "      <td>0.0</td>\n",
       "      <td>1.0</td>\n",
       "      <td>Clear</td>\n",
       "      <td>13.94</td>\n",
       "      <td>61.0</td>\n",
       "      <td>15.0013</td>\n",
       "      <td>4</td>\n",
       "      <td>164</td>\n",
       "      <td>168</td>\n",
       "    </tr>\n",
       "    <tr>\n",
       "      <th>10884</th>\n",
       "      <td>2012-12-19 22:00:00</td>\n",
       "      <td>Winter</td>\n",
       "      <td>NaN</td>\n",
       "      <td>1.0</td>\n",
       "      <td>Clear</td>\n",
       "      <td>13.94</td>\n",
       "      <td>NaN</td>\n",
       "      <td>6.0032</td>\n",
       "      <td>12</td>\n",
       "      <td>117</td>\n",
       "      <td>129</td>\n",
       "    </tr>\n",
       "    <tr>\n",
       "      <th>10885</th>\n",
       "      <td>2012-12-19 23:00:00</td>\n",
       "      <td>Winter</td>\n",
       "      <td>0.0</td>\n",
       "      <td>1.0</td>\n",
       "      <td>Clear</td>\n",
       "      <td>13.12</td>\n",
       "      <td>66.0</td>\n",
       "      <td>8.9981</td>\n",
       "      <td>4</td>\n",
       "      <td>84</td>\n",
       "      <td>88</td>\n",
       "    </tr>\n",
       "  </tbody>\n",
       "</table>\n",
       "<p>10886 rows × 11 columns</p>\n",
       "</div>"
      ],
      "text/plain": [
       "                  datetime  season  holiday  workingday weather   temp  \\\n",
       "0      2011-01-01 00:00:00  Spring      0.0         0.0   Clear   9.84   \n",
       "1      2011-01-01 01:00:00  Spring      0.0         0.0     NaN   9.02   \n",
       "2      2011-01-01 02:00:00  Spring      0.0         0.0   Clear   9.02   \n",
       "3      2011-01-01 03:00:00  Spring      0.0         0.0   Clear   9.84   \n",
       "4      2011-01-01 04:00:00     NaN      0.0         0.0   Clear    NaN   \n",
       "...                    ...     ...      ...         ...     ...    ...   \n",
       "10881  2012-12-19 19:00:00  Winter      0.0         1.0   Clear  15.58   \n",
       "10882  2012-12-19 20:00:00  Winter      0.0         1.0     NaN  14.76   \n",
       "10883  2012-12-19 21:00:00     NaN      0.0         1.0   Clear  13.94   \n",
       "10884  2012-12-19 22:00:00  Winter      NaN         1.0   Clear  13.94   \n",
       "10885  2012-12-19 23:00:00  Winter      0.0         1.0   Clear  13.12   \n",
       "\n",
       "       humidity  windspeed  casual  registered  rented_bikes_count  \n",
       "0          81.0        NaN       3          13                  16  \n",
       "1          80.0     0.0000       8          32                  40  \n",
       "2           NaN     0.0000       5          27                  32  \n",
       "3          75.0     0.0000       3          10                  13  \n",
       "4          75.0        NaN       0           1                   1  \n",
       "...         ...        ...     ...         ...                 ...  \n",
       "10881      50.0    26.0027       7         329                 336  \n",
       "10882       NaN        NaN      10         231                 241  \n",
       "10883      61.0    15.0013       4         164                 168  \n",
       "10884       NaN     6.0032      12         117                 129  \n",
       "10885      66.0     8.9981       4          84                  88  \n",
       "\n",
       "[10886 rows x 11 columns]"
      ]
     },
     "execution_count": 2,
     "metadata": {},
     "output_type": "execute_result"
    }
   ],
   "source": [
    "df = pd.read_csv('bikes.csv')\n",
    "df"
   ]
  },
  {
   "cell_type": "markdown",
   "metadata": {
    "ExecuteTime": {
     "end_time": "2022-11-22T10:26:14.044110Z",
     "start_time": "2022-11-22T10:26:14.035168Z"
    }
   },
   "source": [
    "\n",
    "\n",
    "\n"
   ]
  },
  {
   "cell_type": "markdown",
   "metadata": {},
   "source": [
    "# business understanding\n",
    "\n",
    "1- casual user: 20$ /hour \n",
    "\n",
    "2- registered user: 5$ /hour \n",
    "\n",
    "3- taxes:14%\n",
    "\n",
    "4- logistics:3000$/year\n",
    "\n",
    "==>analyze profit \n",
    "==>predict profit on an hour "
   ]
  },
  {
   "cell_type": "code",
   "execution_count": 3,
   "metadata": {
    "ExecuteTime": {
     "end_time": "2022-11-22T17:10:45.943274Z",
     "start_time": "2022-11-22T17:10:45.911503Z"
    }
   },
   "outputs": [
    {
     "name": "stdout",
     "output_type": "stream",
     "text": [
      "<class 'pandas.core.frame.DataFrame'>\n",
      "RangeIndex: 10886 entries, 0 to 10885\n",
      "Data columns (total 11 columns):\n",
      " #   Column              Non-Null Count  Dtype  \n",
      "---  ------              --------------  -----  \n",
      " 0   datetime            10886 non-null  object \n",
      " 1   season              10672 non-null  object \n",
      " 2   holiday             10030 non-null  float64\n",
      " 3   workingday          9388 non-null   float64\n",
      " 4   weather             8746 non-null   object \n",
      " 5   temp                8104 non-null   float64\n",
      " 6   humidity            7462 non-null   float64\n",
      " 7   windspeed           6820 non-null   float64\n",
      " 8   casual              10886 non-null  int64  \n",
      " 9   registered          10886 non-null  int64  \n",
      " 10  rented_bikes_count  10886 non-null  int64  \n",
      "dtypes: float64(5), int64(3), object(3)\n",
      "memory usage: 935.6+ KB\n"
     ]
    }
   ],
   "source": [
    "df.info()"
   ]
  },
  {
   "cell_type": "markdown",
   "metadata": {},
   "source": [
    "# univariate analysis"
   ]
  },
  {
   "cell_type": "code",
   "execution_count": 4,
   "metadata": {
    "ExecuteTime": {
     "end_time": "2022-11-22T17:10:46.003532Z",
     "start_time": "2022-11-22T17:10:45.947783Z"
    }
   },
   "outputs": [
    {
     "data": {
      "text/html": [
       "<div>\n",
       "<style scoped>\n",
       "    .dataframe tbody tr th:only-of-type {\n",
       "        vertical-align: middle;\n",
       "    }\n",
       "\n",
       "    .dataframe tbody tr th {\n",
       "        vertical-align: top;\n",
       "    }\n",
       "\n",
       "    .dataframe thead th {\n",
       "        text-align: right;\n",
       "    }\n",
       "</style>\n",
       "<table border=\"1\" class=\"dataframe\">\n",
       "  <thead>\n",
       "    <tr style=\"text-align: right;\">\n",
       "      <th></th>\n",
       "      <th>holiday</th>\n",
       "      <th>workingday</th>\n",
       "      <th>temp</th>\n",
       "      <th>humidity</th>\n",
       "      <th>windspeed</th>\n",
       "      <th>casual</th>\n",
       "      <th>registered</th>\n",
       "      <th>rented_bikes_count</th>\n",
       "    </tr>\n",
       "  </thead>\n",
       "  <tbody>\n",
       "    <tr>\n",
       "      <th>count</th>\n",
       "      <td>10030.000000</td>\n",
       "      <td>9388.000000</td>\n",
       "      <td>8104.000000</td>\n",
       "      <td>7462.000000</td>\n",
       "      <td>6820.000000</td>\n",
       "      <td>10886.000000</td>\n",
       "      <td>10886.000000</td>\n",
       "      <td>10886.000000</td>\n",
       "    </tr>\n",
       "    <tr>\n",
       "      <th>mean</th>\n",
       "      <td>0.029113</td>\n",
       "      <td>0.678206</td>\n",
       "      <td>20.317665</td>\n",
       "      <td>61.790673</td>\n",
       "      <td>12.708806</td>\n",
       "      <td>36.021955</td>\n",
       "      <td>155.552177</td>\n",
       "      <td>191.574132</td>\n",
       "    </tr>\n",
       "    <tr>\n",
       "      <th>std</th>\n",
       "      <td>0.168131</td>\n",
       "      <td>0.467189</td>\n",
       "      <td>7.818568</td>\n",
       "      <td>19.262084</td>\n",
       "      <td>8.131154</td>\n",
       "      <td>49.960477</td>\n",
       "      <td>151.039033</td>\n",
       "      <td>181.144454</td>\n",
       "    </tr>\n",
       "    <tr>\n",
       "      <th>min</th>\n",
       "      <td>0.000000</td>\n",
       "      <td>0.000000</td>\n",
       "      <td>0.820000</td>\n",
       "      <td>0.000000</td>\n",
       "      <td>0.000000</td>\n",
       "      <td>0.000000</td>\n",
       "      <td>0.000000</td>\n",
       "      <td>1.000000</td>\n",
       "    </tr>\n",
       "    <tr>\n",
       "      <th>25%</th>\n",
       "      <td>0.000000</td>\n",
       "      <td>0.000000</td>\n",
       "      <td>13.940000</td>\n",
       "      <td>47.000000</td>\n",
       "      <td>7.001500</td>\n",
       "      <td>4.000000</td>\n",
       "      <td>36.000000</td>\n",
       "      <td>42.000000</td>\n",
       "    </tr>\n",
       "    <tr>\n",
       "      <th>50%</th>\n",
       "      <td>0.000000</td>\n",
       "      <td>1.000000</td>\n",
       "      <td>20.500000</td>\n",
       "      <td>62.000000</td>\n",
       "      <td>12.998000</td>\n",
       "      <td>17.000000</td>\n",
       "      <td>118.000000</td>\n",
       "      <td>145.000000</td>\n",
       "    </tr>\n",
       "    <tr>\n",
       "      <th>75%</th>\n",
       "      <td>0.000000</td>\n",
       "      <td>1.000000</td>\n",
       "      <td>26.240000</td>\n",
       "      <td>77.000000</td>\n",
       "      <td>16.997900</td>\n",
       "      <td>49.000000</td>\n",
       "      <td>222.000000</td>\n",
       "      <td>284.000000</td>\n",
       "    </tr>\n",
       "    <tr>\n",
       "      <th>max</th>\n",
       "      <td>1.000000</td>\n",
       "      <td>1.000000</td>\n",
       "      <td>41.000000</td>\n",
       "      <td>100.000000</td>\n",
       "      <td>56.996900</td>\n",
       "      <td>367.000000</td>\n",
       "      <td>886.000000</td>\n",
       "      <td>977.000000</td>\n",
       "    </tr>\n",
       "  </tbody>\n",
       "</table>\n",
       "</div>"
      ],
      "text/plain": [
       "            holiday   workingday         temp     humidity    windspeed  \\\n",
       "count  10030.000000  9388.000000  8104.000000  7462.000000  6820.000000   \n",
       "mean       0.029113     0.678206    20.317665    61.790673    12.708806   \n",
       "std        0.168131     0.467189     7.818568    19.262084     8.131154   \n",
       "min        0.000000     0.000000     0.820000     0.000000     0.000000   \n",
       "25%        0.000000     0.000000    13.940000    47.000000     7.001500   \n",
       "50%        0.000000     1.000000    20.500000    62.000000    12.998000   \n",
       "75%        0.000000     1.000000    26.240000    77.000000    16.997900   \n",
       "max        1.000000     1.000000    41.000000   100.000000    56.996900   \n",
       "\n",
       "             casual    registered  rented_bikes_count  \n",
       "count  10886.000000  10886.000000        10886.000000  \n",
       "mean      36.021955    155.552177          191.574132  \n",
       "std       49.960477    151.039033          181.144454  \n",
       "min        0.000000      0.000000            1.000000  \n",
       "25%        4.000000     36.000000           42.000000  \n",
       "50%       17.000000    118.000000          145.000000  \n",
       "75%       49.000000    222.000000          284.000000  \n",
       "max      367.000000    886.000000          977.000000  "
      ]
     },
     "execution_count": 4,
     "metadata": {},
     "output_type": "execute_result"
    }
   ],
   "source": [
    "df.describe()"
   ]
  },
  {
   "cell_type": "code",
   "execution_count": 5,
   "metadata": {
    "ExecuteTime": {
     "end_time": "2022-11-22T17:10:46.019629Z",
     "start_time": "2022-11-22T17:10:46.004538Z"
    }
   },
   "outputs": [
    {
     "data": {
      "text/plain": [
       "array(['Clear', nan, 'Mist', 'Rainy', 'Snowy'], dtype=object)"
      ]
     },
     "execution_count": 5,
     "metadata": {},
     "output_type": "execute_result"
    }
   ],
   "source": [
    "df['weather'].unique()"
   ]
  },
  {
   "cell_type": "code",
   "execution_count": 6,
   "metadata": {
    "ExecuteTime": {
     "end_time": "2022-11-22T17:10:46.035210Z",
     "start_time": "2022-11-22T17:10:46.019629Z"
    }
   },
   "outputs": [
    {
     "data": {
      "text/plain": [
       "array(['Spring', nan, 'Summer', 'Fall', 'Winter'], dtype=object)"
      ]
     },
     "execution_count": 6,
     "metadata": {},
     "output_type": "execute_result"
    }
   ],
   "source": [
    "df['season'].unique()"
   ]
  },
  {
   "cell_type": "code",
   "execution_count": 7,
   "metadata": {
    "ExecuteTime": {
     "end_time": "2022-11-22T17:10:46.047287Z",
     "start_time": "2022-11-22T17:10:46.037226Z"
    }
   },
   "outputs": [
    {
     "data": {
      "text/plain": [
       "array(['Clear', nan, 'Mist', 'Rainy', 'Snowy'], dtype=object)"
      ]
     },
     "execution_count": 7,
     "metadata": {},
     "output_type": "execute_result"
    }
   ],
   "source": [
    "df['weather'].unique()"
   ]
  },
  {
   "cell_type": "markdown",
   "metadata": {
    "ExecuteTime": {
     "end_time": "2022-11-22T10:53:03.197501Z",
     "start_time": "2022-11-22T10:53:03.189498Z"
    }
   },
   "source": [
    "# feature engineering "
   ]
  },
  {
   "cell_type": "code",
   "execution_count": 8,
   "metadata": {
    "ExecuteTime": {
     "end_time": "2022-11-22T17:10:46.283474Z",
     "start_time": "2022-11-22T17:10:46.047287Z"
    }
   },
   "outputs": [
    {
     "data": {
      "text/html": [
       "<div>\n",
       "<style scoped>\n",
       "    .dataframe tbody tr th:only-of-type {\n",
       "        vertical-align: middle;\n",
       "    }\n",
       "\n",
       "    .dataframe tbody tr th {\n",
       "        vertical-align: top;\n",
       "    }\n",
       "\n",
       "    .dataframe thead th {\n",
       "        text-align: right;\n",
       "    }\n",
       "</style>\n",
       "<table border=\"1\" class=\"dataframe\">\n",
       "  <thead>\n",
       "    <tr style=\"text-align: right;\">\n",
       "      <th></th>\n",
       "      <th>datetime</th>\n",
       "      <th>season</th>\n",
       "      <th>holiday</th>\n",
       "      <th>workingday</th>\n",
       "      <th>weather</th>\n",
       "      <th>temp</th>\n",
       "      <th>humidity</th>\n",
       "      <th>windspeed</th>\n",
       "      <th>casual</th>\n",
       "      <th>registered</th>\n",
       "      <th>rented_bikes_count</th>\n",
       "      <th>Profit</th>\n",
       "    </tr>\n",
       "  </thead>\n",
       "  <tbody>\n",
       "    <tr>\n",
       "      <th>0</th>\n",
       "      <td>2011-01-01 00:00:00</td>\n",
       "      <td>Spring</td>\n",
       "      <td>0.0</td>\n",
       "      <td>0.0</td>\n",
       "      <td>Clear</td>\n",
       "      <td>9.84</td>\n",
       "      <td>81.0</td>\n",
       "      <td>NaN</td>\n",
       "      <td>3</td>\n",
       "      <td>13</td>\n",
       "      <td>16</td>\n",
       "      <td>107.157534</td>\n",
       "    </tr>\n",
       "    <tr>\n",
       "      <th>1</th>\n",
       "      <td>2011-01-01 01:00:00</td>\n",
       "      <td>Spring</td>\n",
       "      <td>0.0</td>\n",
       "      <td>0.0</td>\n",
       "      <td>NaN</td>\n",
       "      <td>9.02</td>\n",
       "      <td>80.0</td>\n",
       "      <td>0.0000</td>\n",
       "      <td>8</td>\n",
       "      <td>32</td>\n",
       "      <td>40</td>\n",
       "      <td>274.857534</td>\n",
       "    </tr>\n",
       "    <tr>\n",
       "      <th>2</th>\n",
       "      <td>2011-01-01 02:00:00</td>\n",
       "      <td>Spring</td>\n",
       "      <td>0.0</td>\n",
       "      <td>0.0</td>\n",
       "      <td>Clear</td>\n",
       "      <td>9.02</td>\n",
       "      <td>NaN</td>\n",
       "      <td>0.0000</td>\n",
       "      <td>5</td>\n",
       "      <td>27</td>\n",
       "      <td>32</td>\n",
       "      <td>201.757534</td>\n",
       "    </tr>\n",
       "    <tr>\n",
       "      <th>3</th>\n",
       "      <td>2011-01-01 03:00:00</td>\n",
       "      <td>Spring</td>\n",
       "      <td>0.0</td>\n",
       "      <td>0.0</td>\n",
       "      <td>Clear</td>\n",
       "      <td>9.84</td>\n",
       "      <td>75.0</td>\n",
       "      <td>0.0000</td>\n",
       "      <td>3</td>\n",
       "      <td>10</td>\n",
       "      <td>13</td>\n",
       "      <td>94.257534</td>\n",
       "    </tr>\n",
       "    <tr>\n",
       "      <th>4</th>\n",
       "      <td>2011-01-01 04:00:00</td>\n",
       "      <td>NaN</td>\n",
       "      <td>0.0</td>\n",
       "      <td>0.0</td>\n",
       "      <td>Clear</td>\n",
       "      <td>NaN</td>\n",
       "      <td>75.0</td>\n",
       "      <td>NaN</td>\n",
       "      <td>0</td>\n",
       "      <td>1</td>\n",
       "      <td>1</td>\n",
       "      <td>3.957534</td>\n",
       "    </tr>\n",
       "    <tr>\n",
       "      <th>...</th>\n",
       "      <td>...</td>\n",
       "      <td>...</td>\n",
       "      <td>...</td>\n",
       "      <td>...</td>\n",
       "      <td>...</td>\n",
       "      <td>...</td>\n",
       "      <td>...</td>\n",
       "      <td>...</td>\n",
       "      <td>...</td>\n",
       "      <td>...</td>\n",
       "      <td>...</td>\n",
       "      <td>...</td>\n",
       "    </tr>\n",
       "    <tr>\n",
       "      <th>10881</th>\n",
       "      <td>2012-12-19 19:00:00</td>\n",
       "      <td>Winter</td>\n",
       "      <td>0.0</td>\n",
       "      <td>1.0</td>\n",
       "      <td>Clear</td>\n",
       "      <td>15.58</td>\n",
       "      <td>50.0</td>\n",
       "      <td>26.0027</td>\n",
       "      <td>7</td>\n",
       "      <td>329</td>\n",
       "      <td>336</td>\n",
       "      <td>1534.757534</td>\n",
       "    </tr>\n",
       "    <tr>\n",
       "      <th>10882</th>\n",
       "      <td>2012-12-19 20:00:00</td>\n",
       "      <td>Winter</td>\n",
       "      <td>0.0</td>\n",
       "      <td>1.0</td>\n",
       "      <td>NaN</td>\n",
       "      <td>14.76</td>\n",
       "      <td>NaN</td>\n",
       "      <td>NaN</td>\n",
       "      <td>10</td>\n",
       "      <td>231</td>\n",
       "      <td>241</td>\n",
       "      <td>1164.957534</td>\n",
       "    </tr>\n",
       "    <tr>\n",
       "      <th>10883</th>\n",
       "      <td>2012-12-19 21:00:00</td>\n",
       "      <td>NaN</td>\n",
       "      <td>0.0</td>\n",
       "      <td>1.0</td>\n",
       "      <td>Clear</td>\n",
       "      <td>13.94</td>\n",
       "      <td>61.0</td>\n",
       "      <td>15.0013</td>\n",
       "      <td>4</td>\n",
       "      <td>164</td>\n",
       "      <td>168</td>\n",
       "      <td>773.657534</td>\n",
       "    </tr>\n",
       "    <tr>\n",
       "      <th>10884</th>\n",
       "      <td>2012-12-19 22:00:00</td>\n",
       "      <td>Winter</td>\n",
       "      <td>NaN</td>\n",
       "      <td>1.0</td>\n",
       "      <td>Clear</td>\n",
       "      <td>13.94</td>\n",
       "      <td>NaN</td>\n",
       "      <td>6.0032</td>\n",
       "      <td>12</td>\n",
       "      <td>117</td>\n",
       "      <td>129</td>\n",
       "      <td>709.157534</td>\n",
       "    </tr>\n",
       "    <tr>\n",
       "      <th>10885</th>\n",
       "      <td>2012-12-19 23:00:00</td>\n",
       "      <td>Winter</td>\n",
       "      <td>0.0</td>\n",
       "      <td>1.0</td>\n",
       "      <td>Clear</td>\n",
       "      <td>13.12</td>\n",
       "      <td>66.0</td>\n",
       "      <td>8.9981</td>\n",
       "      <td>4</td>\n",
       "      <td>84</td>\n",
       "      <td>88</td>\n",
       "      <td>429.657534</td>\n",
       "    </tr>\n",
       "  </tbody>\n",
       "</table>\n",
       "<p>10886 rows × 12 columns</p>\n",
       "</div>"
      ],
      "text/plain": [
       "                  datetime  season  holiday  workingday weather   temp  \\\n",
       "0      2011-01-01 00:00:00  Spring      0.0         0.0   Clear   9.84   \n",
       "1      2011-01-01 01:00:00  Spring      0.0         0.0     NaN   9.02   \n",
       "2      2011-01-01 02:00:00  Spring      0.0         0.0   Clear   9.02   \n",
       "3      2011-01-01 03:00:00  Spring      0.0         0.0   Clear   9.84   \n",
       "4      2011-01-01 04:00:00     NaN      0.0         0.0   Clear    NaN   \n",
       "...                    ...     ...      ...         ...     ...    ...   \n",
       "10881  2012-12-19 19:00:00  Winter      0.0         1.0   Clear  15.58   \n",
       "10882  2012-12-19 20:00:00  Winter      0.0         1.0     NaN  14.76   \n",
       "10883  2012-12-19 21:00:00     NaN      0.0         1.0   Clear  13.94   \n",
       "10884  2012-12-19 22:00:00  Winter      NaN         1.0   Clear  13.94   \n",
       "10885  2012-12-19 23:00:00  Winter      0.0         1.0   Clear  13.12   \n",
       "\n",
       "       humidity  windspeed  casual  registered  rented_bikes_count  \\\n",
       "0          81.0        NaN       3          13                  16   \n",
       "1          80.0     0.0000       8          32                  40   \n",
       "2           NaN     0.0000       5          27                  32   \n",
       "3          75.0     0.0000       3          10                  13   \n",
       "4          75.0        NaN       0           1                   1   \n",
       "...         ...        ...     ...         ...                 ...   \n",
       "10881      50.0    26.0027       7         329                 336   \n",
       "10882       NaN        NaN      10         231                 241   \n",
       "10883      61.0    15.0013       4         164                 168   \n",
       "10884       NaN     6.0032      12         117                 129   \n",
       "10885      66.0     8.9981       4          84                  88   \n",
       "\n",
       "            Profit  \n",
       "0       107.157534  \n",
       "1       274.857534  \n",
       "2       201.757534  \n",
       "3        94.257534  \n",
       "4         3.957534  \n",
       "...            ...  \n",
       "10881  1534.757534  \n",
       "10882  1164.957534  \n",
       "10883   773.657534  \n",
       "10884   709.157534  \n",
       "10885   429.657534  \n",
       "\n",
       "[10886 rows x 12 columns]"
      ]
     },
     "execution_count": 8,
     "metadata": {},
     "output_type": "execute_result"
    }
   ],
   "source": [
    "def calc_profit(row):\n",
    "    cash = row['casual'] * 20 + row['registered'] * 5\n",
    "    cash_w_tax = cash - (cash * 0.14)\n",
    "    logistics_per_hour = 3000 / (365 * 24)\n",
    "    net_profit = cash_w_tax - logistics_per_hour\n",
    "    return net_profit\n",
    "\n",
    "df['Profit'] = df.apply(calc_profit, axis=1)\n",
    "df"
   ]
  },
  {
   "cell_type": "code",
   "execution_count": 9,
   "metadata": {
    "ExecuteTime": {
     "end_time": "2022-11-22T17:10:46.327214Z",
     "start_time": "2022-11-22T17:10:46.283474Z"
    }
   },
   "outputs": [
    {
     "name": "stdout",
     "output_type": "stream",
     "text": [
      "<class 'pandas.core.frame.DataFrame'>\n",
      "RangeIndex: 10886 entries, 0 to 10885\n",
      "Data columns (total 12 columns):\n",
      " #   Column              Non-Null Count  Dtype         \n",
      "---  ------              --------------  -----         \n",
      " 0   datetime            10886 non-null  datetime64[ns]\n",
      " 1   season              10672 non-null  object        \n",
      " 2   holiday             10030 non-null  float64       \n",
      " 3   workingday          9388 non-null   float64       \n",
      " 4   weather             8746 non-null   object        \n",
      " 5   temp                8104 non-null   float64       \n",
      " 6   humidity            7462 non-null   float64       \n",
      " 7   windspeed           6820 non-null   float64       \n",
      " 8   casual              10886 non-null  int64         \n",
      " 9   registered          10886 non-null  int64         \n",
      " 10  rented_bikes_count  10886 non-null  int64         \n",
      " 11  Profit              10886 non-null  float64       \n",
      "dtypes: datetime64[ns](1), float64(6), int64(3), object(2)\n",
      "memory usage: 1020.7+ KB\n"
     ]
    }
   ],
   "source": [
    "df['datetime'] = pd.to_datetime(df['datetime'], format='%Y-%m-%d %H:%M:%S', errors='coerce')\n",
    "df.info()"
   ]
  },
  {
   "cell_type": "code",
   "execution_count": 10,
   "metadata": {
    "ExecuteTime": {
     "end_time": "2022-11-22T17:10:46.355452Z",
     "start_time": "2022-11-22T17:10:46.331217Z"
    }
   },
   "outputs": [],
   "source": [
    "df['hour'] = df['datetime'].dt.hour\n",
    "df['day'] = df['datetime'].dt.day_name()\n"
   ]
  },
  {
   "cell_type": "code",
   "execution_count": 11,
   "metadata": {
    "ExecuteTime": {
     "end_time": "2022-11-22T17:10:46.399321Z",
     "start_time": "2022-11-22T17:10:46.356962Z"
    }
   },
   "outputs": [
    {
     "data": {
      "text/html": [
       "<div>\n",
       "<style scoped>\n",
       "    .dataframe tbody tr th:only-of-type {\n",
       "        vertical-align: middle;\n",
       "    }\n",
       "\n",
       "    .dataframe tbody tr th {\n",
       "        vertical-align: top;\n",
       "    }\n",
       "\n",
       "    .dataframe thead th {\n",
       "        text-align: right;\n",
       "    }\n",
       "</style>\n",
       "<table border=\"1\" class=\"dataframe\">\n",
       "  <thead>\n",
       "    <tr style=\"text-align: right;\">\n",
       "      <th></th>\n",
       "      <th>datetime</th>\n",
       "      <th>season</th>\n",
       "      <th>holiday</th>\n",
       "      <th>workingday</th>\n",
       "      <th>weather</th>\n",
       "      <th>temp</th>\n",
       "      <th>humidity</th>\n",
       "      <th>windspeed</th>\n",
       "      <th>casual</th>\n",
       "      <th>registered</th>\n",
       "      <th>rented_bikes_count</th>\n",
       "      <th>Profit</th>\n",
       "      <th>hour</th>\n",
       "      <th>day</th>\n",
       "    </tr>\n",
       "  </thead>\n",
       "  <tbody>\n",
       "    <tr>\n",
       "      <th>0</th>\n",
       "      <td>2011-01-01 00:00:00</td>\n",
       "      <td>Spring</td>\n",
       "      <td>0.0</td>\n",
       "      <td>0.0</td>\n",
       "      <td>Clear</td>\n",
       "      <td>9.84</td>\n",
       "      <td>81.0</td>\n",
       "      <td>NaN</td>\n",
       "      <td>3</td>\n",
       "      <td>13</td>\n",
       "      <td>16</td>\n",
       "      <td>107.157534</td>\n",
       "      <td>0</td>\n",
       "      <td>Saturday</td>\n",
       "    </tr>\n",
       "    <tr>\n",
       "      <th>1</th>\n",
       "      <td>2011-01-01 01:00:00</td>\n",
       "      <td>Spring</td>\n",
       "      <td>0.0</td>\n",
       "      <td>0.0</td>\n",
       "      <td>NaN</td>\n",
       "      <td>9.02</td>\n",
       "      <td>80.0</td>\n",
       "      <td>0.0000</td>\n",
       "      <td>8</td>\n",
       "      <td>32</td>\n",
       "      <td>40</td>\n",
       "      <td>274.857534</td>\n",
       "      <td>1</td>\n",
       "      <td>Saturday</td>\n",
       "    </tr>\n",
       "    <tr>\n",
       "      <th>2</th>\n",
       "      <td>2011-01-01 02:00:00</td>\n",
       "      <td>Spring</td>\n",
       "      <td>0.0</td>\n",
       "      <td>0.0</td>\n",
       "      <td>Clear</td>\n",
       "      <td>9.02</td>\n",
       "      <td>NaN</td>\n",
       "      <td>0.0000</td>\n",
       "      <td>5</td>\n",
       "      <td>27</td>\n",
       "      <td>32</td>\n",
       "      <td>201.757534</td>\n",
       "      <td>2</td>\n",
       "      <td>Saturday</td>\n",
       "    </tr>\n",
       "    <tr>\n",
       "      <th>3</th>\n",
       "      <td>2011-01-01 03:00:00</td>\n",
       "      <td>Spring</td>\n",
       "      <td>0.0</td>\n",
       "      <td>0.0</td>\n",
       "      <td>Clear</td>\n",
       "      <td>9.84</td>\n",
       "      <td>75.0</td>\n",
       "      <td>0.0000</td>\n",
       "      <td>3</td>\n",
       "      <td>10</td>\n",
       "      <td>13</td>\n",
       "      <td>94.257534</td>\n",
       "      <td>3</td>\n",
       "      <td>Saturday</td>\n",
       "    </tr>\n",
       "    <tr>\n",
       "      <th>4</th>\n",
       "      <td>2011-01-01 04:00:00</td>\n",
       "      <td>NaN</td>\n",
       "      <td>0.0</td>\n",
       "      <td>0.0</td>\n",
       "      <td>Clear</td>\n",
       "      <td>NaN</td>\n",
       "      <td>75.0</td>\n",
       "      <td>NaN</td>\n",
       "      <td>0</td>\n",
       "      <td>1</td>\n",
       "      <td>1</td>\n",
       "      <td>3.957534</td>\n",
       "      <td>4</td>\n",
       "      <td>Saturday</td>\n",
       "    </tr>\n",
       "    <tr>\n",
       "      <th>...</th>\n",
       "      <td>...</td>\n",
       "      <td>...</td>\n",
       "      <td>...</td>\n",
       "      <td>...</td>\n",
       "      <td>...</td>\n",
       "      <td>...</td>\n",
       "      <td>...</td>\n",
       "      <td>...</td>\n",
       "      <td>...</td>\n",
       "      <td>...</td>\n",
       "      <td>...</td>\n",
       "      <td>...</td>\n",
       "      <td>...</td>\n",
       "      <td>...</td>\n",
       "    </tr>\n",
       "    <tr>\n",
       "      <th>10881</th>\n",
       "      <td>2012-12-19 19:00:00</td>\n",
       "      <td>Winter</td>\n",
       "      <td>0.0</td>\n",
       "      <td>1.0</td>\n",
       "      <td>Clear</td>\n",
       "      <td>15.58</td>\n",
       "      <td>50.0</td>\n",
       "      <td>26.0027</td>\n",
       "      <td>7</td>\n",
       "      <td>329</td>\n",
       "      <td>336</td>\n",
       "      <td>1534.757534</td>\n",
       "      <td>19</td>\n",
       "      <td>Wednesday</td>\n",
       "    </tr>\n",
       "    <tr>\n",
       "      <th>10882</th>\n",
       "      <td>2012-12-19 20:00:00</td>\n",
       "      <td>Winter</td>\n",
       "      <td>0.0</td>\n",
       "      <td>1.0</td>\n",
       "      <td>NaN</td>\n",
       "      <td>14.76</td>\n",
       "      <td>NaN</td>\n",
       "      <td>NaN</td>\n",
       "      <td>10</td>\n",
       "      <td>231</td>\n",
       "      <td>241</td>\n",
       "      <td>1164.957534</td>\n",
       "      <td>20</td>\n",
       "      <td>Wednesday</td>\n",
       "    </tr>\n",
       "    <tr>\n",
       "      <th>10883</th>\n",
       "      <td>2012-12-19 21:00:00</td>\n",
       "      <td>NaN</td>\n",
       "      <td>0.0</td>\n",
       "      <td>1.0</td>\n",
       "      <td>Clear</td>\n",
       "      <td>13.94</td>\n",
       "      <td>61.0</td>\n",
       "      <td>15.0013</td>\n",
       "      <td>4</td>\n",
       "      <td>164</td>\n",
       "      <td>168</td>\n",
       "      <td>773.657534</td>\n",
       "      <td>21</td>\n",
       "      <td>Wednesday</td>\n",
       "    </tr>\n",
       "    <tr>\n",
       "      <th>10884</th>\n",
       "      <td>2012-12-19 22:00:00</td>\n",
       "      <td>Winter</td>\n",
       "      <td>NaN</td>\n",
       "      <td>1.0</td>\n",
       "      <td>Clear</td>\n",
       "      <td>13.94</td>\n",
       "      <td>NaN</td>\n",
       "      <td>6.0032</td>\n",
       "      <td>12</td>\n",
       "      <td>117</td>\n",
       "      <td>129</td>\n",
       "      <td>709.157534</td>\n",
       "      <td>22</td>\n",
       "      <td>Wednesday</td>\n",
       "    </tr>\n",
       "    <tr>\n",
       "      <th>10885</th>\n",
       "      <td>2012-12-19 23:00:00</td>\n",
       "      <td>Winter</td>\n",
       "      <td>0.0</td>\n",
       "      <td>1.0</td>\n",
       "      <td>Clear</td>\n",
       "      <td>13.12</td>\n",
       "      <td>66.0</td>\n",
       "      <td>8.9981</td>\n",
       "      <td>4</td>\n",
       "      <td>84</td>\n",
       "      <td>88</td>\n",
       "      <td>429.657534</td>\n",
       "      <td>23</td>\n",
       "      <td>Wednesday</td>\n",
       "    </tr>\n",
       "  </tbody>\n",
       "</table>\n",
       "<p>10886 rows × 14 columns</p>\n",
       "</div>"
      ],
      "text/plain": [
       "                 datetime  season  holiday  workingday weather   temp  \\\n",
       "0     2011-01-01 00:00:00  Spring      0.0         0.0   Clear   9.84   \n",
       "1     2011-01-01 01:00:00  Spring      0.0         0.0     NaN   9.02   \n",
       "2     2011-01-01 02:00:00  Spring      0.0         0.0   Clear   9.02   \n",
       "3     2011-01-01 03:00:00  Spring      0.0         0.0   Clear   9.84   \n",
       "4     2011-01-01 04:00:00     NaN      0.0         0.0   Clear    NaN   \n",
       "...                   ...     ...      ...         ...     ...    ...   \n",
       "10881 2012-12-19 19:00:00  Winter      0.0         1.0   Clear  15.58   \n",
       "10882 2012-12-19 20:00:00  Winter      0.0         1.0     NaN  14.76   \n",
       "10883 2012-12-19 21:00:00     NaN      0.0         1.0   Clear  13.94   \n",
       "10884 2012-12-19 22:00:00  Winter      NaN         1.0   Clear  13.94   \n",
       "10885 2012-12-19 23:00:00  Winter      0.0         1.0   Clear  13.12   \n",
       "\n",
       "       humidity  windspeed  casual  registered  rented_bikes_count  \\\n",
       "0          81.0        NaN       3          13                  16   \n",
       "1          80.0     0.0000       8          32                  40   \n",
       "2           NaN     0.0000       5          27                  32   \n",
       "3          75.0     0.0000       3          10                  13   \n",
       "4          75.0        NaN       0           1                   1   \n",
       "...         ...        ...     ...         ...                 ...   \n",
       "10881      50.0    26.0027       7         329                 336   \n",
       "10882       NaN        NaN      10         231                 241   \n",
       "10883      61.0    15.0013       4         164                 168   \n",
       "10884       NaN     6.0032      12         117                 129   \n",
       "10885      66.0     8.9981       4          84                  88   \n",
       "\n",
       "            Profit  hour        day  \n",
       "0       107.157534     0   Saturday  \n",
       "1       274.857534     1   Saturday  \n",
       "2       201.757534     2   Saturday  \n",
       "3        94.257534     3   Saturday  \n",
       "4         3.957534     4   Saturday  \n",
       "...            ...   ...        ...  \n",
       "10881  1534.757534    19  Wednesday  \n",
       "10882  1164.957534    20  Wednesday  \n",
       "10883   773.657534    21  Wednesday  \n",
       "10884   709.157534    22  Wednesday  \n",
       "10885   429.657534    23  Wednesday  \n",
       "\n",
       "[10886 rows x 14 columns]"
      ]
     },
     "execution_count": 11,
     "metadata": {},
     "output_type": "execute_result"
    }
   ],
   "source": [
    "df"
   ]
  },
  {
   "cell_type": "markdown",
   "metadata": {
    "ExecuteTime": {
     "end_time": "2022-11-22T11:55:46.428470Z",
     "start_time": "2022-11-22T11:55:46.407816Z"
    }
   },
   "source": [
    "# work with missing values \n"
   ]
  },
  {
   "cell_type": "code",
   "execution_count": 12,
   "metadata": {
    "ExecuteTime": {
     "end_time": "2022-11-22T17:10:46.431220Z",
     "start_time": "2022-11-22T17:10:46.399321Z"
    }
   },
   "outputs": [
    {
     "data": {
      "text/plain": [
       "datetime                 0\n",
       "season                 214\n",
       "holiday                856\n",
       "workingday            1498\n",
       "weather               2140\n",
       "temp                  2782\n",
       "humidity              3424\n",
       "windspeed             4066\n",
       "casual                   0\n",
       "registered               0\n",
       "rented_bikes_count       0\n",
       "Profit                   0\n",
       "hour                     0\n",
       "day                      0\n",
       "dtype: int64"
      ]
     },
     "execution_count": 12,
     "metadata": {},
     "output_type": "execute_result"
    }
   ],
   "source": [
    "df.isna().sum()"
   ]
  },
  {
   "cell_type": "code",
   "execution_count": 13,
   "metadata": {
    "ExecuteTime": {
     "end_time": "2022-11-22T17:10:46.447279Z",
     "start_time": "2022-11-22T17:10:46.431220Z"
    }
   },
   "outputs": [
    {
     "data": {
      "text/plain": [
       "10886"
      ]
     },
     "execution_count": 13,
     "metadata": {},
     "output_type": "execute_result"
    }
   ],
   "source": [
    "df.shape[0]"
   ]
  },
  {
   "cell_type": "code",
   "execution_count": 14,
   "metadata": {
    "ExecuteTime": {
     "end_time": "2022-11-22T17:10:46.479089Z",
     "start_time": "2022-11-22T17:10:46.447793Z"
    }
   },
   "outputs": [
    {
     "data": {
      "text/plain": [
       "datetime                 0\n",
       "season                 214\n",
       "holiday                856\n",
       "workingday            1498\n",
       "weather               2140\n",
       "temp                  2782\n",
       "humidity              3424\n",
       "windspeed             4066\n",
       "casual                   0\n",
       "registered               0\n",
       "rented_bikes_count       0\n",
       "Profit                   0\n",
       "hour                     0\n",
       "day                      0\n",
       "dtype: int64"
      ]
     },
     "execution_count": 14,
     "metadata": {},
     "output_type": "execute_result"
    }
   ],
   "source": [
    "df.isna().sum()"
   ]
  },
  {
   "cell_type": "code",
   "execution_count": 15,
   "metadata": {
    "ExecuteTime": {
     "end_time": "2022-11-22T17:10:46.503446Z",
     "start_time": "2022-11-22T17:10:46.479089Z"
    }
   },
   "outputs": [
    {
     "data": {
      "text/plain": [
       "datetime               0.000000\n",
       "season                 1.965828\n",
       "holiday                7.863311\n",
       "workingday            13.760794\n",
       "weather               19.658277\n",
       "temp                  25.555760\n",
       "humidity              31.453243\n",
       "windspeed             37.350726\n",
       "casual                 0.000000\n",
       "registered             0.000000\n",
       "rented_bikes_count     0.000000\n",
       "Profit                 0.000000\n",
       "hour                   0.000000\n",
       "day                    0.000000\n",
       "dtype: float64"
      ]
     },
     "execution_count": 15,
     "metadata": {},
     "output_type": "execute_result"
    }
   ],
   "source": [
    "df.isna().sum() / df.shape[0] * 100"
   ]
  },
  {
   "cell_type": "code",
   "execution_count": 16,
   "metadata": {
    "ExecuteTime": {
     "end_time": "2022-11-22T17:10:46.519281Z",
     "start_time": "2022-11-22T17:10:46.504954Z"
    }
   },
   "outputs": [],
   "source": [
    "df.drop('windspeed',axis=1,inplace=True)\n"
   ]
  },
  {
   "cell_type": "code",
   "execution_count": 17,
   "metadata": {
    "ExecuteTime": {
     "end_time": "2022-11-22T17:10:46.917701Z",
     "start_time": "2022-11-22T17:10:46.519281Z"
    }
   },
   "outputs": [],
   "source": [
    "from sklearn.impute import SimpleImputer,KNNImputer"
   ]
  },
  {
   "cell_type": "code",
   "execution_count": 18,
   "metadata": {
    "ExecuteTime": {
     "end_time": "2022-11-22T17:10:50.481842Z",
     "start_time": "2022-11-22T17:10:46.919711Z"
    }
   },
   "outputs": [],
   "source": [
    "df['holiday'].fillna(0.0,inplace=True)\n",
    "df['workingday'].fillna(0.0,inplace=True)\n",
    "imputer = SimpleImputer(strategy='most_frequent')\n",
    "df['season'] = imputer.fit_transform(df[['season']])\n",
    "df['weather'] = imputer.fit_transform(df[['weather']])\n",
    "imputer = KNNImputer()\n",
    "df['temp'] = imputer.fit_transform(df[['temp']])\n",
    "df['humidity'] = imputer.fit_transform(df[['humidity']])"
   ]
  },
  {
   "cell_type": "code",
   "execution_count": 19,
   "metadata": {
    "ExecuteTime": {
     "end_time": "2022-11-22T17:10:50.510574Z",
     "start_time": "2022-11-22T17:10:50.481842Z"
    }
   },
   "outputs": [
    {
     "data": {
      "text/plain": [
       "datetime              0\n",
       "season                0\n",
       "holiday               0\n",
       "workingday            0\n",
       "weather               0\n",
       "temp                  0\n",
       "humidity              0\n",
       "casual                0\n",
       "registered            0\n",
       "rented_bikes_count    0\n",
       "Profit                0\n",
       "hour                  0\n",
       "day                   0\n",
       "dtype: int64"
      ]
     },
     "execution_count": 19,
     "metadata": {},
     "output_type": "execute_result"
    }
   ],
   "source": [
    "df.isna().sum()"
   ]
  },
  {
   "cell_type": "markdown",
   "metadata": {},
   "source": [
    "# working with outliers"
   ]
  },
  {
   "cell_type": "code",
   "execution_count": 20,
   "metadata": {
    "ExecuteTime": {
     "end_time": "2022-11-22T17:10:50.543563Z",
     "start_time": "2022-11-22T17:10:50.510574Z"
    }
   },
   "outputs": [],
   "source": [
    "#  from datasist.structdata import detect_outliers\n",
    "#  idx = detect_outliers(df, 0, ['temp', 'humidity', 'casual', 'registered', 'rented_bikes_count', 'Profit'])\n",
    "#  df.drop(idx, axis=0, inplace=True)"
   ]
  },
  {
   "cell_type": "markdown",
   "metadata": {},
   "source": [
    "# EDA Questions\n",
    "1- how much the company gain in each hour ?\n",
    "\n",
    "2- how much the company gain in each weekday?\n",
    "\n",
    "3- how much the company gain in each weather ?\n",
    "\n"
   ]
  },
  {
   "cell_type": "code",
   "execution_count": 21,
   "metadata": {
    "ExecuteTime": {
     "end_time": "2022-11-22T17:10:50.559220Z",
     "start_time": "2022-11-22T17:10:50.543563Z"
    }
   },
   "outputs": [
    {
     "data": {
      "text/plain": [
       "hour\n",
       "19    643916.975342\n",
       "20    613091.912329\n",
       "16    612535.004110\n",
       "9     602888.887671\n",
       "12    518841.124658\n",
       "18    499880.064384\n",
       "13    493783.806849\n",
       "21    487309.530137\n",
       "11    482429.447945\n",
       "15    482075.743836\n",
       "10    461831.801370\n",
       "7     447083.524658\n",
       "14    436377.056164\n",
       "8     432577.568493\n",
       "17    412922.800000\n",
       "22    387190.232877\n",
       "23    262645.375342\n",
       "6     170756.087671\n",
       "0     166859.945205\n",
       "1     103360.817808\n",
       "2      70624.042466\n",
       "5      46154.987671\n",
       "3      36000.594521\n",
       "4      18973.469863\n",
       "Name: Profit, dtype: float64"
      ]
     },
     "execution_count": 21,
     "metadata": {},
     "output_type": "execute_result"
    }
   ],
   "source": [
    "df.groupby('hour').sum()['Profit'].sort_values(ascending=False)"
   ]
  },
  {
   "cell_type": "code",
   "execution_count": 22,
   "metadata": {
    "ExecuteTime": {
     "end_time": "2022-11-22T17:10:51.765376Z",
     "start_time": "2022-11-22T17:10:50.559220Z"
    }
   },
   "outputs": [
    {
     "data": {
      "text/plain": [
       "<AxesSubplot:xlabel='hour', ylabel='Profit'>"
      ]
     },
     "execution_count": 22,
     "metadata": {},
     "output_type": "execute_result"
    },
    {
     "data": {
      "image/png": "[encoded data removed]",
      "text/plain": [
       "<Figure size 800x800 with 1 Axes>"
      ]
     },
     "metadata": {},
     "output_type": "display_data"
    }
   ],
   "source": [
    "sns.barplot(x='hour', y='Profit', data=df, estimator=np.sum)"
   ]
  },
  {
   "cell_type": "code",
   "execution_count": 23,
   "metadata": {
    "ExecuteTime": {
     "end_time": "2022-11-22T17:10:52.299559Z",
     "start_time": "2022-11-22T17:10:51.767386Z"
    }
   },
   "outputs": [
    {
     "data": {
      "text/plain": [
       "<AxesSubplot:xlabel='day', ylabel='Profit'>"
      ]
     },
     "execution_count": 23,
     "metadata": {},
     "output_type": "execute_result"
    },
    {
     "data": {
      "image/png": "[encoded data removed]",
      "text/plain": [
       "<Figure size 800x800 with 1 Axes>"
      ]
     },
     "metadata": {},
     "output_type": "display_data"
    }
   ],
   "source": [
    "sns.barplot(x='day', y='Profit', data=df, estimator=np.sum)"
   ]
  },
  {
   "cell_type": "code",
   "execution_count": 24,
   "metadata": {
    "ExecuteTime": {
     "end_time": "2022-11-22T17:10:52.703557Z",
     "start_time": "2022-11-22T17:10:52.299559Z"
    }
   },
   "outputs": [
    {
     "data": {
      "text/plain": [
       "<AxesSubplot:xlabel='season', ylabel='Profit'>"
      ]
     },
     "execution_count": 24,
     "metadata": {},
     "output_type": "execute_result"
    },
    {
     "data": {
      "image/png": "[encoded data removed]",
      "text/plain": [
       "<Figure size 800x800 with 1 Axes>"
      ]
     },
     "metadata": {},
     "output_type": "display_data"
    }
   ],
   "source": [
    "sns.barplot(x='season', y='Profit', data=df, estimator=np.sum)"
   ]
  },
  {
   "cell_type": "code",
   "execution_count": 25,
   "metadata": {
    "ExecuteTime": {
     "end_time": "2022-11-22T17:10:53.090978Z",
     "start_time": "2022-11-22T17:10:52.703557Z"
    }
   },
   "outputs": [
    {
     "data": {
      "text/plain": [
       "<AxesSubplot:xlabel='weather', ylabel='Profit'>"
      ]
     },
     "execution_count": 25,
     "metadata": {},
     "output_type": "execute_result"
    },
    {
     "data": {
      "image/png": "[encoded data removed]",
      "text/plain": [
       "<Figure size 800x800 with 1 Axes>"
      ]
     },
     "metadata": {},
     "output_type": "display_data"
    }
   ],
   "source": [
    "sns.barplot(x='weather', y='Profit', data=df, estimator=np.sum)"
   ]
  },
  {
   "cell_type": "code",
   "execution_count": 26,
   "metadata": {
    "ExecuteTime": {
     "end_time": "2022-11-22T17:10:53.107089Z",
     "start_time": "2022-11-22T17:10:53.090978Z"
    }
   },
   "outputs": [],
   "source": [
    "df.drop(['datetime', 'casual', 'registered', 'rented_bikes_count'], axis=1, inplace=True)"
   ]
  },
  {
   "cell_type": "code",
   "execution_count": 27,
   "metadata": {
    "ExecuteTime": {
     "end_time": "2022-11-22T17:10:53.155359Z",
     "start_time": "2022-11-22T17:10:53.109314Z"
    }
   },
   "outputs": [
    {
     "data": {
      "text/html": [
       "<div>\n",
       "<style scoped>\n",
       "    .dataframe tbody tr th:only-of-type {\n",
       "        vertical-align: middle;\n",
       "    }\n",
       "\n",
       "    .dataframe tbody tr th {\n",
       "        vertical-align: top;\n",
       "    }\n",
       "\n",
       "    .dataframe thead th {\n",
       "        text-align: right;\n",
       "    }\n",
       "</style>\n",
       "<table border=\"1\" class=\"dataframe\">\n",
       "  <thead>\n",
       "    <tr style=\"text-align: right;\">\n",
       "      <th></th>\n",
       "      <th>holiday</th>\n",
       "      <th>workingday</th>\n",
       "      <th>temp</th>\n",
       "      <th>humidity</th>\n",
       "      <th>Profit</th>\n",
       "      <th>hour</th>\n",
       "      <th>season_Spring</th>\n",
       "      <th>season_Summer</th>\n",
       "      <th>season_Winter</th>\n",
       "      <th>weather_Mist</th>\n",
       "      <th>weather_Rainy</th>\n",
       "      <th>weather_Snowy</th>\n",
       "      <th>day_Monday</th>\n",
       "      <th>day_Saturday</th>\n",
       "      <th>day_Sunday</th>\n",
       "      <th>day_Thursday</th>\n",
       "      <th>day_Tuesday</th>\n",
       "      <th>day_Wednesday</th>\n",
       "    </tr>\n",
       "  </thead>\n",
       "  <tbody>\n",
       "    <tr>\n",
       "      <th>0</th>\n",
       "      <td>0.0</td>\n",
       "      <td>0.0</td>\n",
       "      <td>9.840000</td>\n",
       "      <td>81.000000</td>\n",
       "      <td>107.157534</td>\n",
       "      <td>0</td>\n",
       "      <td>1</td>\n",
       "      <td>0</td>\n",
       "      <td>0</td>\n",
       "      <td>0</td>\n",
       "      <td>0</td>\n",
       "      <td>0</td>\n",
       "      <td>0</td>\n",
       "      <td>1</td>\n",
       "      <td>0</td>\n",
       "      <td>0</td>\n",
       "      <td>0</td>\n",
       "      <td>0</td>\n",
       "    </tr>\n",
       "    <tr>\n",
       "      <th>1</th>\n",
       "      <td>0.0</td>\n",
       "      <td>0.0</td>\n",
       "      <td>9.020000</td>\n",
       "      <td>80.000000</td>\n",
       "      <td>274.857534</td>\n",
       "      <td>1</td>\n",
       "      <td>1</td>\n",
       "      <td>0</td>\n",
       "      <td>0</td>\n",
       "      <td>0</td>\n",
       "      <td>0</td>\n",
       "      <td>0</td>\n",
       "      <td>0</td>\n",
       "      <td>1</td>\n",
       "      <td>0</td>\n",
       "      <td>0</td>\n",
       "      <td>0</td>\n",
       "      <td>0</td>\n",
       "    </tr>\n",
       "    <tr>\n",
       "      <th>2</th>\n",
       "      <td>0.0</td>\n",
       "      <td>0.0</td>\n",
       "      <td>9.020000</td>\n",
       "      <td>61.790673</td>\n",
       "      <td>201.757534</td>\n",
       "      <td>2</td>\n",
       "      <td>1</td>\n",
       "      <td>0</td>\n",
       "      <td>0</td>\n",
       "      <td>0</td>\n",
       "      <td>0</td>\n",
       "      <td>0</td>\n",
       "      <td>0</td>\n",
       "      <td>1</td>\n",
       "      <td>0</td>\n",
       "      <td>0</td>\n",
       "      <td>0</td>\n",
       "      <td>0</td>\n",
       "    </tr>\n",
       "    <tr>\n",
       "      <th>3</th>\n",
       "      <td>0.0</td>\n",
       "      <td>0.0</td>\n",
       "      <td>9.840000</td>\n",
       "      <td>75.000000</td>\n",
       "      <td>94.257534</td>\n",
       "      <td>3</td>\n",
       "      <td>1</td>\n",
       "      <td>0</td>\n",
       "      <td>0</td>\n",
       "      <td>0</td>\n",
       "      <td>0</td>\n",
       "      <td>0</td>\n",
       "      <td>0</td>\n",
       "      <td>1</td>\n",
       "      <td>0</td>\n",
       "      <td>0</td>\n",
       "      <td>0</td>\n",
       "      <td>0</td>\n",
       "    </tr>\n",
       "    <tr>\n",
       "      <th>4</th>\n",
       "      <td>0.0</td>\n",
       "      <td>0.0</td>\n",
       "      <td>20.317665</td>\n",
       "      <td>75.000000</td>\n",
       "      <td>3.957534</td>\n",
       "      <td>4</td>\n",
       "      <td>0</td>\n",
       "      <td>0</td>\n",
       "      <td>1</td>\n",
       "      <td>0</td>\n",
       "      <td>0</td>\n",
       "      <td>0</td>\n",
       "      <td>0</td>\n",
       "      <td>1</td>\n",
       "      <td>0</td>\n",
       "      <td>0</td>\n",
       "      <td>0</td>\n",
       "      <td>0</td>\n",
       "    </tr>\n",
       "    <tr>\n",
       "      <th>...</th>\n",
       "      <td>...</td>\n",
       "      <td>...</td>\n",
       "      <td>...</td>\n",
       "      <td>...</td>\n",
       "      <td>...</td>\n",
       "      <td>...</td>\n",
       "      <td>...</td>\n",
       "      <td>...</td>\n",
       "      <td>...</td>\n",
       "      <td>...</td>\n",
       "      <td>...</td>\n",
       "      <td>...</td>\n",
       "      <td>...</td>\n",
       "      <td>...</td>\n",
       "      <td>...</td>\n",
       "      <td>...</td>\n",
       "      <td>...</td>\n",
       "      <td>...</td>\n",
       "    </tr>\n",
       "    <tr>\n",
       "      <th>10881</th>\n",
       "      <td>0.0</td>\n",
       "      <td>1.0</td>\n",
       "      <td>15.580000</td>\n",
       "      <td>50.000000</td>\n",
       "      <td>1534.757534</td>\n",
       "      <td>19</td>\n",
       "      <td>0</td>\n",
       "      <td>0</td>\n",
       "      <td>1</td>\n",
       "      <td>0</td>\n",
       "      <td>0</td>\n",
       "      <td>0</td>\n",
       "      <td>0</td>\n",
       "      <td>0</td>\n",
       "      <td>0</td>\n",
       "      <td>0</td>\n",
       "      <td>0</td>\n",
       "      <td>1</td>\n",
       "    </tr>\n",
       "    <tr>\n",
       "      <th>10882</th>\n",
       "      <td>0.0</td>\n",
       "      <td>1.0</td>\n",
       "      <td>14.760000</td>\n",
       "      <td>61.790673</td>\n",
       "      <td>1164.957534</td>\n",
       "      <td>20</td>\n",
       "      <td>0</td>\n",
       "      <td>0</td>\n",
       "      <td>1</td>\n",
       "      <td>0</td>\n",
       "      <td>0</td>\n",
       "      <td>0</td>\n",
       "      <td>0</td>\n",
       "      <td>0</td>\n",
       "      <td>0</td>\n",
       "      <td>0</td>\n",
       "      <td>0</td>\n",
       "      <td>1</td>\n",
       "    </tr>\n",
       "    <tr>\n",
       "      <th>10883</th>\n",
       "      <td>0.0</td>\n",
       "      <td>1.0</td>\n",
       "      <td>13.940000</td>\n",
       "      <td>61.000000</td>\n",
       "      <td>773.657534</td>\n",
       "      <td>21</td>\n",
       "      <td>0</td>\n",
       "      <td>0</td>\n",
       "      <td>1</td>\n",
       "      <td>0</td>\n",
       "      <td>0</td>\n",
       "      <td>0</td>\n",
       "      <td>0</td>\n",
       "      <td>0</td>\n",
       "      <td>0</td>\n",
       "      <td>0</td>\n",
       "      <td>0</td>\n",
       "      <td>1</td>\n",
       "    </tr>\n",
       "    <tr>\n",
       "      <th>10884</th>\n",
       "      <td>0.0</td>\n",
       "      <td>1.0</td>\n",
       "      <td>13.940000</td>\n",
       "      <td>61.790673</td>\n",
       "      <td>709.157534</td>\n",
       "      <td>22</td>\n",
       "      <td>0</td>\n",
       "      <td>0</td>\n",
       "      <td>1</td>\n",
       "      <td>0</td>\n",
       "      <td>0</td>\n",
       "      <td>0</td>\n",
       "      <td>0</td>\n",
       "      <td>0</td>\n",
       "      <td>0</td>\n",
       "      <td>0</td>\n",
       "      <td>0</td>\n",
       "      <td>1</td>\n",
       "    </tr>\n",
       "    <tr>\n",
       "      <th>10885</th>\n",
       "      <td>0.0</td>\n",
       "      <td>1.0</td>\n",
       "      <td>13.120000</td>\n",
       "      <td>66.000000</td>\n",
       "      <td>429.657534</td>\n",
       "      <td>23</td>\n",
       "      <td>0</td>\n",
       "      <td>0</td>\n",
       "      <td>1</td>\n",
       "      <td>0</td>\n",
       "      <td>0</td>\n",
       "      <td>0</td>\n",
       "      <td>0</td>\n",
       "      <td>0</td>\n",
       "      <td>0</td>\n",
       "      <td>0</td>\n",
       "      <td>0</td>\n",
       "      <td>1</td>\n",
       "    </tr>\n",
       "  </tbody>\n",
       "</table>\n",
       "<p>9384 rows × 18 columns</p>\n",
       "</div>"
      ],
      "text/plain": [
       "       holiday  workingday       temp   humidity       Profit  hour  \\\n",
       "0          0.0         0.0   9.840000  81.000000   107.157534     0   \n",
       "1          0.0         0.0   9.020000  80.000000   274.857534     1   \n",
       "2          0.0         0.0   9.020000  61.790673   201.757534     2   \n",
       "3          0.0         0.0   9.840000  75.000000    94.257534     3   \n",
       "4          0.0         0.0  20.317665  75.000000     3.957534     4   \n",
       "...        ...         ...        ...        ...          ...   ...   \n",
       "10881      0.0         1.0  15.580000  50.000000  1534.757534    19   \n",
       "10882      0.0         1.0  14.760000  61.790673  1164.957534    20   \n",
       "10883      0.0         1.0  13.940000  61.000000   773.657534    21   \n",
       "10884      0.0         1.0  13.940000  61.790673   709.157534    22   \n",
       "10885      0.0         1.0  13.120000  66.000000   429.657534    23   \n",
       "\n",
       "       season_Spring  season_Summer  season_Winter  weather_Mist  \\\n",
       "0                  1              0              0             0   \n",
       "1                  1              0              0             0   \n",
       "2                  1              0              0             0   \n",
       "3                  1              0              0             0   \n",
       "4                  0              0              1             0   \n",
       "...              ...            ...            ...           ...   \n",
       "10881              0              0              1             0   \n",
       "10882              0              0              1             0   \n",
       "10883              0              0              1             0   \n",
       "10884              0              0              1             0   \n",
       "10885              0              0              1             0   \n",
       "\n",
       "       weather_Rainy  weather_Snowy  day_Monday  day_Saturday  day_Sunday  \\\n",
       "0                  0              0           0             1           0   \n",
       "1                  0              0           0             1           0   \n",
       "2                  0              0           0             1           0   \n",
       "3                  0              0           0             1           0   \n",
       "4                  0              0           0             1           0   \n",
       "...              ...            ...         ...           ...         ...   \n",
       "10881              0              0           0             0           0   \n",
       "10882              0              0           0             0           0   \n",
       "10883              0              0           0             0           0   \n",
       "10884              0              0           0             0           0   \n",
       "10885              0              0           0             0           0   \n",
       "\n",
       "       day_Thursday  day_Tuesday  day_Wednesday  \n",
       "0                 0            0              0  \n",
       "1                 0            0              0  \n",
       "2                 0            0              0  \n",
       "3                 0            0              0  \n",
       "4                 0            0              0  \n",
       "...             ...          ...            ...  \n",
       "10881             0            0              1  \n",
       "10882             0            0              1  \n",
       "10883             0            0              1  \n",
       "10884             0            0              1  \n",
       "10885             0            0              1  \n",
       "\n",
       "[9384 rows x 18 columns]"
      ]
     },
     "execution_count": 27,
     "metadata": {},
     "output_type": "execute_result"
    }
   ],
   "source": [
    "df = pd.get_dummies(df, columns=['season', 'weather', 'day'], drop_first=True)\n",
    "df"
   ]
  },
  {
   "cell_type": "code",
   "execution_count": 28,
   "metadata": {
    "ExecuteTime": {
     "end_time": "2022-11-22T17:10:53.171269Z",
     "start_time": "2022-11-22T17:10:53.159439Z"
    }
   },
   "outputs": [],
   "source": [
    "x = df.drop('Profit', axis=1)\n",
    "y = df['Profit']"
   ]
  },
  {
   "cell_type": "code",
   "execution_count": 29,
   "metadata": {
    "ExecuteTime": {
     "end_time": "2022-11-22T17:10:53.187319Z",
     "start_time": "2022-11-22T17:10:53.171269Z"
    }
   },
   "outputs": [],
   "source": [
    "from sklearn.model_selection import train_test_split"
   ]
  },
  {
   "cell_type": "code",
   "execution_count": 30,
   "metadata": {
    "ExecuteTime": {
     "end_time": "2022-11-22T17:10:53.199539Z",
     "start_time": "2022-11-22T17:10:53.187319Z"
    }
   },
   "outputs": [],
   "source": [
    "x_train, x_test, y_train, y_test = train_test_split(x, y, test_size=0.2)"
   ]
  },
  {
   "cell_type": "code",
   "execution_count": 31,
   "metadata": {
    "ExecuteTime": {
     "end_time": "2022-11-22T17:10:53.215232Z",
     "start_time": "2022-11-22T17:10:53.199539Z"
    }
   },
   "outputs": [],
   "source": [
    "from sklearn.preprocessing import StandardScaler\n",
    "\n",
    "scaler = StandardScaler()\n",
    "\n",
    "scaler.fit(x_train)\n",
    "\n",
    "x_train = scaler.transform(x_train)\n",
    "x_test = scaler.transform(x_test)"
   ]
  },
  {
   "cell_type": "code",
   "execution_count": 32,
   "metadata": {
    "ExecuteTime": {
     "end_time": "2022-11-22T17:10:53.247079Z",
     "start_time": "2022-11-22T17:10:53.217323Z"
    }
   },
   "outputs": [
    {
     "data": {
      "text/html": [
       "<div>\n",
       "<style scoped>\n",
       "    .dataframe tbody tr th:only-of-type {\n",
       "        vertical-align: middle;\n",
       "    }\n",
       "\n",
       "    .dataframe tbody tr th {\n",
       "        vertical-align: top;\n",
       "    }\n",
       "\n",
       "    .dataframe thead th {\n",
       "        text-align: right;\n",
       "    }\n",
       "</style>\n",
       "<table border=\"1\" class=\"dataframe\">\n",
       "  <thead>\n",
       "    <tr style=\"text-align: right;\">\n",
       "      <th></th>\n",
       "      <th>holiday</th>\n",
       "      <th>workingday</th>\n",
       "      <th>temp</th>\n",
       "      <th>humidity</th>\n",
       "      <th>hour</th>\n",
       "      <th>season_Spring</th>\n",
       "      <th>season_Summer</th>\n",
       "      <th>season_Winter</th>\n",
       "      <th>weather_Mist</th>\n",
       "      <th>weather_Rainy</th>\n",
       "      <th>weather_Snowy</th>\n",
       "      <th>day_Monday</th>\n",
       "      <th>day_Saturday</th>\n",
       "      <th>day_Sunday</th>\n",
       "      <th>day_Thursday</th>\n",
       "      <th>day_Tuesday</th>\n",
       "      <th>day_Wednesday</th>\n",
       "    </tr>\n",
       "  </thead>\n",
       "  <tbody>\n",
       "    <tr>\n",
       "      <th>0</th>\n",
       "      <td>-0.167134</td>\n",
       "      <td>0.795403</td>\n",
       "      <td>-1.009188</td>\n",
       "      <td>-0.104121</td>\n",
       "      <td>0.672571</td>\n",
       "      <td>-0.581093</td>\n",
       "      <td>-0.549698</td>\n",
       "      <td>1.613672</td>\n",
       "      <td>1.888465</td>\n",
       "      <td>-0.256673</td>\n",
       "      <td>-0.011542</td>\n",
       "      <td>-0.418536</td>\n",
       "      <td>-0.379717</td>\n",
       "      <td>-0.389303</td>\n",
       "      <td>-0.417216</td>\n",
       "      <td>-0.417876</td>\n",
       "      <td>2.423745</td>\n",
       "    </tr>\n",
       "    <tr>\n",
       "      <th>1</th>\n",
       "      <td>-0.167134</td>\n",
       "      <td>0.795403</td>\n",
       "      <td>-1.134170</td>\n",
       "      <td>-0.996691</td>\n",
       "      <td>-0.721407</td>\n",
       "      <td>-0.581093</td>\n",
       "      <td>-0.549698</td>\n",
       "      <td>1.613672</td>\n",
       "      <td>1.888465</td>\n",
       "      <td>-0.256673</td>\n",
       "      <td>-0.011542</td>\n",
       "      <td>2.389282</td>\n",
       "      <td>-0.379717</td>\n",
       "      <td>-0.389303</td>\n",
       "      <td>-0.417216</td>\n",
       "      <td>-0.417876</td>\n",
       "      <td>-0.412585</td>\n",
       "    </tr>\n",
       "    <tr>\n",
       "      <th>2</th>\n",
       "      <td>-0.167134</td>\n",
       "      <td>0.795403</td>\n",
       "      <td>0.615584</td>\n",
       "      <td>-0.104121</td>\n",
       "      <td>1.090764</td>\n",
       "      <td>-0.581093</td>\n",
       "      <td>1.819180</td>\n",
       "      <td>-0.619705</td>\n",
       "      <td>-0.529530</td>\n",
       "      <td>-0.256673</td>\n",
       "      <td>-0.011542</td>\n",
       "      <td>-0.418536</td>\n",
       "      <td>-0.379717</td>\n",
       "      <td>-0.389303</td>\n",
       "      <td>-0.417216</td>\n",
       "      <td>2.393053</td>\n",
       "      <td>-0.412585</td>\n",
       "    </tr>\n",
       "    <tr>\n",
       "      <th>3</th>\n",
       "      <td>-0.167134</td>\n",
       "      <td>0.795403</td>\n",
       "      <td>-1.634100</td>\n",
       "      <td>-0.104121</td>\n",
       "      <td>-1.000203</td>\n",
       "      <td>-0.581093</td>\n",
       "      <td>-0.549698</td>\n",
       "      <td>1.613672</td>\n",
       "      <td>-0.529530</td>\n",
       "      <td>-0.256673</td>\n",
       "      <td>-0.011542</td>\n",
       "      <td>-0.418536</td>\n",
       "      <td>-0.379717</td>\n",
       "      <td>-0.389303</td>\n",
       "      <td>-0.417216</td>\n",
       "      <td>-0.417876</td>\n",
       "      <td>-0.412585</td>\n",
       "    </tr>\n",
       "    <tr>\n",
       "      <th>4</th>\n",
       "      <td>-0.167134</td>\n",
       "      <td>-1.257224</td>\n",
       "      <td>0.087863</td>\n",
       "      <td>0.119835</td>\n",
       "      <td>1.369560</td>\n",
       "      <td>-0.581093</td>\n",
       "      <td>1.819180</td>\n",
       "      <td>-0.619705</td>\n",
       "      <td>-0.529530</td>\n",
       "      <td>-0.256673</td>\n",
       "      <td>-0.011542</td>\n",
       "      <td>-0.418536</td>\n",
       "      <td>-0.379717</td>\n",
       "      <td>-0.389303</td>\n",
       "      <td>2.396838</td>\n",
       "      <td>-0.417876</td>\n",
       "      <td>-0.412585</td>\n",
       "    </tr>\n",
       "    <tr>\n",
       "      <th>...</th>\n",
       "      <td>...</td>\n",
       "      <td>...</td>\n",
       "      <td>...</td>\n",
       "      <td>...</td>\n",
       "      <td>...</td>\n",
       "      <td>...</td>\n",
       "      <td>...</td>\n",
       "      <td>...</td>\n",
       "      <td>...</td>\n",
       "      <td>...</td>\n",
       "      <td>...</td>\n",
       "      <td>...</td>\n",
       "      <td>...</td>\n",
       "      <td>...</td>\n",
       "      <td>...</td>\n",
       "      <td>...</td>\n",
       "      <td>...</td>\n",
       "    </tr>\n",
       "    <tr>\n",
       "      <th>7502</th>\n",
       "      <td>-0.167134</td>\n",
       "      <td>-1.257224</td>\n",
       "      <td>-0.509258</td>\n",
       "      <td>-0.104121</td>\n",
       "      <td>0.393775</td>\n",
       "      <td>1.720894</td>\n",
       "      <td>-0.549698</td>\n",
       "      <td>-0.619705</td>\n",
       "      <td>-0.529530</td>\n",
       "      <td>-0.256673</td>\n",
       "      <td>-0.011542</td>\n",
       "      <td>-0.418536</td>\n",
       "      <td>-0.379717</td>\n",
       "      <td>2.568692</td>\n",
       "      <td>-0.417216</td>\n",
       "      <td>-0.417876</td>\n",
       "      <td>-0.412585</td>\n",
       "    </tr>\n",
       "    <tr>\n",
       "      <th>7503</th>\n",
       "      <td>-0.167134</td>\n",
       "      <td>0.795403</td>\n",
       "      <td>0.990531</td>\n",
       "      <td>0.678099</td>\n",
       "      <td>-1.000203</td>\n",
       "      <td>-0.581093</td>\n",
       "      <td>-0.549698</td>\n",
       "      <td>-0.619705</td>\n",
       "      <td>-0.529530</td>\n",
       "      <td>-0.256673</td>\n",
       "      <td>-0.011542</td>\n",
       "      <td>-0.418536</td>\n",
       "      <td>-0.379717</td>\n",
       "      <td>-0.389303</td>\n",
       "      <td>-0.417216</td>\n",
       "      <td>-0.417876</td>\n",
       "      <td>2.423745</td>\n",
       "    </tr>\n",
       "    <tr>\n",
       "      <th>7504</th>\n",
       "      <td>-0.167134</td>\n",
       "      <td>0.795403</td>\n",
       "      <td>-1.009188</td>\n",
       "      <td>-0.996691</td>\n",
       "      <td>1.508957</td>\n",
       "      <td>-0.581093</td>\n",
       "      <td>1.819180</td>\n",
       "      <td>-0.619705</td>\n",
       "      <td>-0.529530</td>\n",
       "      <td>-0.256673</td>\n",
       "      <td>-0.011542</td>\n",
       "      <td>-0.418536</td>\n",
       "      <td>-0.379717</td>\n",
       "      <td>-0.389303</td>\n",
       "      <td>-0.417216</td>\n",
       "      <td>2.393053</td>\n",
       "      <td>-0.412585</td>\n",
       "    </tr>\n",
       "    <tr>\n",
       "      <th>7505</th>\n",
       "      <td>-0.167134</td>\n",
       "      <td>0.795403</td>\n",
       "      <td>0.087863</td>\n",
       "      <td>0.468750</td>\n",
       "      <td>0.811968</td>\n",
       "      <td>1.720894</td>\n",
       "      <td>-0.549698</td>\n",
       "      <td>-0.619705</td>\n",
       "      <td>1.888465</td>\n",
       "      <td>-0.256673</td>\n",
       "      <td>-0.011542</td>\n",
       "      <td>2.389282</td>\n",
       "      <td>-0.379717</td>\n",
       "      <td>-0.389303</td>\n",
       "      <td>-0.417216</td>\n",
       "      <td>-0.417876</td>\n",
       "      <td>-0.412585</td>\n",
       "    </tr>\n",
       "    <tr>\n",
       "      <th>7506</th>\n",
       "      <td>-0.167134</td>\n",
       "      <td>0.795403</td>\n",
       "      <td>-1.759082</td>\n",
       "      <td>-1.136257</td>\n",
       "      <td>1.508957</td>\n",
       "      <td>1.720894</td>\n",
       "      <td>-0.549698</td>\n",
       "      <td>-0.619705</td>\n",
       "      <td>1.888465</td>\n",
       "      <td>-0.256673</td>\n",
       "      <td>-0.011542</td>\n",
       "      <td>-0.418536</td>\n",
       "      <td>-0.379717</td>\n",
       "      <td>-0.389303</td>\n",
       "      <td>-0.417216</td>\n",
       "      <td>-0.417876</td>\n",
       "      <td>2.423745</td>\n",
       "    </tr>\n",
       "  </tbody>\n",
       "</table>\n",
       "<p>7507 rows × 17 columns</p>\n",
       "</div>"
      ],
      "text/plain": [
       "       holiday  workingday      temp  humidity      hour  season_Spring  \\\n",
       "0    -0.167134    0.795403 -1.009188 -0.104121  0.672571      -0.581093   \n",
       "1    -0.167134    0.795403 -1.134170 -0.996691 -0.721407      -0.581093   \n",
       "2    -0.167134    0.795403  0.615584 -0.104121  1.090764      -0.581093   \n",
       "3    -0.167134    0.795403 -1.634100 -0.104121 -1.000203      -0.581093   \n",
       "4    -0.167134   -1.257224  0.087863  0.119835  1.369560      -0.581093   \n",
       "...        ...         ...       ...       ...       ...            ...   \n",
       "7502 -0.167134   -1.257224 -0.509258 -0.104121  0.393775       1.720894   \n",
       "7503 -0.167134    0.795403  0.990531  0.678099 -1.000203      -0.581093   \n",
       "7504 -0.167134    0.795403 -1.009188 -0.996691  1.508957      -0.581093   \n",
       "7505 -0.167134    0.795403  0.087863  0.468750  0.811968       1.720894   \n",
       "7506 -0.167134    0.795403 -1.759082 -1.136257  1.508957       1.720894   \n",
       "\n",
       "      season_Summer  season_Winter  weather_Mist  weather_Rainy  \\\n",
       "0         -0.549698       1.613672      1.888465      -0.256673   \n",
       "1         -0.549698       1.613672      1.888465      -0.256673   \n",
       "2          1.819180      -0.619705     -0.529530      -0.256673   \n",
       "3         -0.549698       1.613672     -0.529530      -0.256673   \n",
       "4          1.819180      -0.619705     -0.529530      -0.256673   \n",
       "...             ...            ...           ...            ...   \n",
       "7502      -0.549698      -0.619705     -0.529530      -0.256673   \n",
       "7503      -0.549698      -0.619705     -0.529530      -0.256673   \n",
       "7504       1.819180      -0.619705     -0.529530      -0.256673   \n",
       "7505      -0.549698      -0.619705      1.888465      -0.256673   \n",
       "7506      -0.549698      -0.619705      1.888465      -0.256673   \n",
       "\n",
       "      weather_Snowy  day_Monday  day_Saturday  day_Sunday  day_Thursday  \\\n",
       "0         -0.011542   -0.418536     -0.379717   -0.389303     -0.417216   \n",
       "1         -0.011542    2.389282     -0.379717   -0.389303     -0.417216   \n",
       "2         -0.011542   -0.418536     -0.379717   -0.389303     -0.417216   \n",
       "3         -0.011542   -0.418536     -0.379717   -0.389303     -0.417216   \n",
       "4         -0.011542   -0.418536     -0.379717   -0.389303      2.396838   \n",
       "...             ...         ...           ...         ...           ...   \n",
       "7502      -0.011542   -0.418536     -0.379717    2.568692     -0.417216   \n",
       "7503      -0.011542   -0.418536     -0.379717   -0.389303     -0.417216   \n",
       "7504      -0.011542   -0.418536     -0.379717   -0.389303     -0.417216   \n",
       "7505      -0.011542    2.389282     -0.379717   -0.389303     -0.417216   \n",
       "7506      -0.011542   -0.418536     -0.379717   -0.389303     -0.417216   \n",
       "\n",
       "      day_Tuesday  day_Wednesday  \n",
       "0       -0.417876       2.423745  \n",
       "1       -0.417876      -0.412585  \n",
       "2        2.393053      -0.412585  \n",
       "3       -0.417876      -0.412585  \n",
       "4       -0.417876      -0.412585  \n",
       "...           ...            ...  \n",
       "7502    -0.417876      -0.412585  \n",
       "7503    -0.417876       2.423745  \n",
       "7504     2.393053      -0.412585  \n",
       "7505    -0.417876      -0.412585  \n",
       "7506    -0.417876       2.423745  \n",
       "\n",
       "[7507 rows x 17 columns]"
      ]
     },
     "execution_count": 32,
     "metadata": {},
     "output_type": "execute_result"
    }
   ],
   "source": [
    "pd.DataFrame(x_train,columns=x.columns)"
   ]
  },
  {
   "cell_type": "code",
   "execution_count": 33,
   "metadata": {
    "ExecuteTime": {
     "end_time": "2022-11-22T17:10:56.099652Z",
     "start_time": "2022-11-22T17:10:53.247079Z"
    }
   },
   "outputs": [],
   "source": [
    "from sklearn.linear_model import LinearRegression\n",
    "from sklearn.neighbors import KNeighborsRegressor\n",
    "from sklearn.svm import SVR\n",
    "from sklearn.tree import DecisionTreeRegressor\n",
    "from sklearn.ensemble import RandomForestRegressor\n",
    "from xgboost import XGBRegressor\n",
    "from sklearn.metrics import mean_absolute_error,mean_squared_error,r2_score"
   ]
  },
  {
   "cell_type": "code",
   "execution_count": 34,
   "metadata": {
    "ExecuteTime": {
     "end_time": "2022-11-22T17:10:56.112151Z",
     "start_time": "2022-11-22T17:10:56.099652Z"
    }
   },
   "outputs": [],
   "source": [
    "models ={\n",
    "    'LR' : LinearRegression(),\n",
    "    'KNNR' : KNeighborsRegressor(),\n",
    "    'SVR' : SVR(),\n",
    "    'DT' : DecisionTreeRegressor(),\n",
    "    'RF' : RandomForestRegressor(),\n",
    "    'XGBR' : XGBRegressor()\n",
    "    \n",
    "}"
   ]
  },
  {
   "cell_type": "code",
   "execution_count": 37,
   "metadata": {
    "ExecuteTime": {
     "end_time": "2022-11-22T17:10:56.127283Z",
     "start_time": "2022-11-22T17:10:56.114219Z"
    }
   },
   "outputs": [
    {
     "name": "stdout",
     "output_type": "stream",
     "text": [
      "Using model: LR\n",
      "Training score : 0.3716849142565033\n",
      "Testing score : 0.38488437998622305\n",
      "RMSE : 641.2762124738464\n",
      "MAE : 509.1423296523304\n",
      "R2 : 0.38488437998622305\n",
      "______________________________\n",
      "Using model: KNNR\n",
      "Training score : 0.7196984264093516\n",
      "Testing score : 0.5616665448444063\n",
      "RMSE : 541.3386831412512\n",
      "MAE : 398.614810868407\n",
      "R2 : 0.5616665448444063\n",
      "______________________________\n",
      "Using model: SVR\n",
      "Training score : 0.09198757817349301\n",
      "Testing score : 0.10900884475701134\n",
      "RMSE : 771.7976451967511\n",
      "MAE : 603.3646646087885\n",
      "R2 : 0.10900884475701134\n",
      "______________________________\n",
      "Using model: DT\n",
      "Training score : 0.9942968942644665\n",
      "Testing score : 0.5697085454207506\n",
      "RMSE : 536.3497880850894\n",
      "MAE : 350.88679630616235\n",
      "R2 : 0.5697085454207506\n",
      "______________________________\n",
      "Using model: RF\n",
      "Training score : 0.964521499186097\n",
      "Testing score : 0.761898923885561\n",
      "RMSE : 398.9766062659472\n",
      "MAE : 269.0504876952415\n",
      "R2 : 0.761898923885561\n",
      "______________________________\n",
      "Using model: XGBR\n",
      "Training score : 0.9132272385025185\n",
      "Testing score : 0.7802052250362866\n",
      "RMSE : 383.332317496991\n",
      "MAE : 264.82647137712803\n",
      "R2 : 0.7802052250362866\n",
      "______________________________\n"
     ]
    }
   ],
   "source": [
    "for name,model in models.items():\n",
    "    print(f'Using model: {name}')\n",
    "    model.fit(x_train , y_train)\n",
    "    y_pred = model.predict(x_test)\n",
    "    print(f'Training score : {model.score(x_train , y_train)}')#for over over fitting or under fitting\n",
    "    print(f'Testing score : {model.score(x_test , y_test)}')#--->^-^\n",
    "    print(f'RMSE : {np.sqrt(mean_squared_error(y_test , y_pred))}')\n",
    "    print(f'MAE : {mean_absolute_error(y_test , y_pred)}')\n",
    "    print(f'R2 : {r2_score(y_test , y_pred)}')\n",
    "\n",
    "    print('_'*30)"
   ]
  },
  {
   "cell_type": "code",
   "execution_count": null,
   "metadata": {
    "ExecuteTime": {
     "end_time": "2022-11-22T17:10:56.144449Z",
     "start_time": "2022-11-22T17:10:56.128333Z"
    }
   },
   "outputs": [],
   "source": []
  },
  {
   "cell_type": "code",
   "execution_count": null,
   "metadata": {
    "ExecuteTime": {
     "end_time": "2022-11-22T17:10:56.157166Z",
     "start_time": "2022-11-22T17:10:56.146955Z"
    }
   },
   "outputs": [],
   "source": []
  },
  {
   "cell_type": "code",
   "execution_count": null,
   "metadata": {
    "ExecuteTime": {
     "end_time": "2022-11-22T17:19:20.897119Z",
     "start_time": "2022-11-22T17:19:20.872893Z"
    }
   },
   "outputs": [],
   "source": []
  },
  {
   "cell_type": "code",
   "execution_count": null,
   "metadata": {
    "ExecuteTime": {
     "end_time": "2022-11-22T17:19:22.799320Z",
     "start_time": "2022-11-22T17:19:22.778871Z"
    }
   },
   "outputs": [],
   "source": []
  },
  {
   "cell_type": "code",
   "execution_count": null,
   "metadata": {},
   "outputs": [],
   "source": []
  }
 ],
 "metadata": {
  "kernelspec": {
   "display_name": "Python 3",
   "language": "python",
   "name": "python3"
  },
  "language_info": {
   "codemirror_mode": {
    "name": "ipython",
    "version": 3
   },
   "file_extension": ".py",
   "mimetype": "text/x-python",
   "name": "python",
   "nbconvert_exporter": "python",
   "pygments_lexer": "ipython3",
   "version": "3.7.6"
  }
 },
 "nbformat": 4,
 "nbformat_minor": 5
}
